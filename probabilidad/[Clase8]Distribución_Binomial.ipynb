{
  "cells": [
    {
      "cell_type": "markdown",
      "metadata": {
        "id": "j0ZPLw1C275z"
      },
      "source": [
        "## Secuencias de eventos tipo Bernoulli\n",
        "un ensayo de Bernoulli es un experimento aleatorio en el que sólo se pueden obtener dos resultados.\n",
        "\n",
        "La distribución binomial o distribución binómica es una distribución de probabilidad discreta que cuenta el número de éxitos en una secuencia de n ensayos de Bernoulli independientes entre sí con una probabilidad fija p de ocurrencia de éxito entre los n ensayos.\n",
        "\n",
        "$\n",
        "P(k, n; p) = {n \\choose k} p^k (1-p)^{n-k} = \\frac{n!}{k!(n-k)!}p^k (1-p)^{n-k}\n",
        "$"
      ]
    },
    {
      "cell_type": "code",
      "execution_count": 2,
      "metadata": {
        "id": "mk5PbdQ60KHF"
      },
      "outputs": [],
      "source": [
        "import numpy as np\n",
        "from numpy.random import binomial\n",
        "from scipy.stats import binom\n",
        "from math import factorial\n",
        "import matplotlib.pyplot as plt"
      ]
    },
    {
      "cell_type": "code",
      "execution_count": 3,
      "metadata": {
        "id": "zV3MBWjh3q1I"
      },
      "outputs": [],
      "source": [
        "# definición de la distribución binomial \n",
        "def my_binomial(k, n, p):\n",
        "  return factorial(n)/(factorial(k)*(factorial(n-k)))*pow(p,k)*pow(1-p, n-k)"
      ]
    },
    {
      "cell_type": "markdown",
      "metadata": {},
      "source": [
        "Tomemos en cuenta la distribucion binomial del lanzamiento de una moneda 3 veces con una probabilidad de que salga cara del 50%"
      ]
    },
    {
      "cell_type": "code",
      "execution_count": 5,
      "metadata": {
        "colab": {
          "base_uri": "https://localhost:8080/",
          "height": 51
        },
        "id": "1zz8o3qp4SaV",
        "outputId": "01b19cab-e964-4c87-d326-6c78f15561d6"
      },
      "outputs": [
        {
          "name": "stdout",
          "output_type": "stream",
          "text": [
            "my binomial: 0.375\n",
            "0.875\n",
            "0.875\n"
          ]
        }
      ],
      "source": [
        "k = 2 #Numero de exitos\n",
        "n = 3 #Numero de repeticiones del experimento\n",
        "p = 0.5 #Probabilidad de exito\n",
        "\n",
        "print('my binomial: {}'.format(my_binomial(k, n, p)))\n",
        "dist = binom(n, p)\n",
        "# pmf es Probability mass function y devuelve la probabilidad de exitos dada una distribucion binomial\n",
        "dist.pmf(k)\n",
        "print(dist.cdf(k))\n",
        "print(7/8)"
      ]
    },
    {
      "cell_type": "markdown",
      "metadata": {
        "id": "U6RH83Vfp5Jh"
      },
      "source": [
        "## Validación del ejercicio hecho a mano\n",
        "\n",
        "$$\n",
        "P(k\\leq 2, n=3, p=1/2) = \\sum_{k=0}^2 \\left[ \\frac{n!}{k!(n-k)!}p^k (1-p)^{n-k} \\right] = \\frac{7}{8}\n",
        "$$\n"
      ]
    },
    {
      "cell_type": "code",
      "execution_count": 39,
      "metadata": {
        "colab": {
          "base_uri": "https://localhost:8080/",
          "height": 51
        },
        "id": "X6pS-e1k3E6D",
        "outputId": "cd416851-5324-41ff-bd6f-f8b3f4ffdd25"
      },
      "outputs": [
        {
          "name": "stdout",
          "output_type": "stream",
          "text": [
            "0.875\n"
          ]
        },
        {
          "data": {
            "text/plain": [
              "0.875"
            ]
          },
          "execution_count": 39,
          "metadata": {},
          "output_type": "execute_result"
        }
      ],
      "source": [
        "print(7/8.0)\n",
        "dist.cdf(2) #cdf es cumulative density function y devuelve la densidad acumulada de exitos menores a k"
      ]
    },
    {
      "cell_type": "markdown",
      "metadata": {
        "id": "HFfJnG06rO6I"
      },
      "source": [
        "## Simulaciones de secuencias con generadores aleatorios\n",
        "\n",
        "* Los generadores aleatorios tienen como propósito simular muestras de datos que resultarían de muestreos en la vida real de procesos aleatorios como lanzar una moneda o un dado."
      ]
    },
    {
      "cell_type": "code",
      "execution_count": 66,
      "metadata": {
        "colab": {
          "base_uri": "https://localhost:8080/",
          "height": 34
        },
        "id": "DgvwIIkD2hbo",
        "outputId": "aedf8147-4565-41f9-94cb-257f37ffe4d4"
      },
      "outputs": [
        {
          "data": {
            "text/plain": [
              "3"
            ]
          },
          "execution_count": 66,
          "metadata": {},
          "output_type": "execute_result"
        }
      ],
      "source": [
        "# simulación con 100 lanzamientos de moneda equilibrada\n",
        "# (ejecuta esta celda varias veces para observar la variación en los resultados)\n",
        "p=0.5\n",
        "n=3\n",
        "#binomial devuelve un valor entre 0 y n, es un contados de la cantidad de exitos de despues de realizar un experimento \n",
        "binomial(n, p)"
      ]
    },
    {
      "cell_type": "code",
      "execution_count": 20,
      "metadata": {
        "id": "TjFgKhWFsjom"
      },
      "outputs": [],
      "source": [
        "# Vamos a hacer un experimento generando una muestra de conjuntos de lanzamientos de a 3 monedas\n",
        "arr = []\n",
        "for _ in range(100):\n",
        "  arr.append(binomial(n, p))"
      ]
    },
    {
      "cell_type": "code",
      "execution_count": 31,
      "metadata": {
        "colab": {
          "base_uri": "https://localhost:8080/",
          "height": 809
        },
        "id": "v7hIwGTDs3Um",
        "outputId": "cc358045-f1be-4518-90da-1d5f82de0c11"
      },
      "outputs": [
        {
          "data": {
            "image/png": "[encoded data removed]",
            "text/plain": [
              "<Figure size 432x288 with 1 Axes>"
            ]
          },
          "metadata": {
            "needs_background": "light"
          },
          "output_type": "display_data"
        },
        {
          "data": {
            "image/png": "[encoded data removed]",
            "text/plain": [
              "<Figure size 432x288 with 1 Axes>"
            ]
          },
          "metadata": {
            "needs_background": "light"
          },
          "output_type": "display_data"
        },
        {
          "data": {
            "image/png": "[encoded data removed]",
            "text/plain": [
              "<Figure size 432x288 with 1 Axes>"
            ]
          },
          "metadata": {
            "needs_background": "light"
          },
          "output_type": "display_data"
        }
      ],
      "source": [
        "def plot_hist(num_trials):\n",
        "  values = [0,1,2,3]\n",
        "  arr = []\n",
        "  for _ in range(num_trials):\n",
        "    arr.append(binomial(3, 0.5))\n",
        "  distribucion_simulada = np.unique(arr, return_counts=True)[1]/len(arr)\n",
        "  distribucion_teorica = [binom(3, 0.5).pmf(k) for k in values]\n",
        "  plt.bar(values, distribucion_teorica, label = 'teoría', color = 'red')\n",
        "  plt.bar(values, distribucion_simulada, label = 'simulación', alpha = 0.5, color = 'blue')\n",
        "  plt.title('simulación con {} experimentos'.format(num_trials))\n",
        "  plt.show()\n",
        "\n",
        "plot_hist(20)\n",
        "plot_hist(200)\n",
        "plot_hist(20000)"
      ]
    }
  ],
  "metadata": {
    "colab": {
      "collapsed_sections": [],
      "name": "[Clase8]Distribución_Binomial.ipynb",
      "provenance": []
    },
    "kernelspec": {
      "display_name": "Python 3.9.12 ('science')",
      "language": "python",
      "name": "python3"
    },
    "language_info": {
      "codemirror_mode": {
        "name": "ipython",
        "version": 3
      },
      "file_extension": ".py",
      "mimetype": "text/x-python",
      "name": "python",
      "nbconvert_exporter": "python",
      "pygments_lexer": "ipython3",
      "version": "3.9.12"
    },
    "vscode": {
      "interpreter": {
        "hash": "e36847e174c2f4841b5ed6dbf9974dc324dbe5dde540f7009f83bd0d8df21b80"
      }
    }
  },
  "nbformat": 4,
  "nbformat_minor": 0
}
