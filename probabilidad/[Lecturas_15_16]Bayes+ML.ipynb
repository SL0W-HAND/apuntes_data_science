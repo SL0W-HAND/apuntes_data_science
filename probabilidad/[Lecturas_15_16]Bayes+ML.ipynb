{
  "cells": [
    {
      "cell_type": "markdown",
      "metadata": {
        "id": "sygaS-ObYZdt"
      },
      "source": [
        "# Ejemplo con clasificador de Naive Bayes\n",
        "\n",
        "Consideremos un conjunto de datos artificial sobre el cual podamos probar un clasificador de Naive Bayes:"
      ]
    },
    {
      "cell_type": "code",
      "execution_count": 1,
      "metadata": {
        "colab": {
          "base_uri": "https://localhost:8080/",
          "height": 280
        },
        "id": "9vQgN0vfMt7S",
        "outputId": "94098fd2-57ff-4146-91e6-d92f92b7b281"
      },
      "outputs": [
        {
          "data": {
            "text/plain": [
              "<matplotlib.legend.Legend at 0x7ff83aba7970>"
            ]
          },
          "execution_count": 1,
          "metadata": {},
          "output_type": "execute_result"
        },
        {
          "data": {
            "image/png": "[encoded data removed]",
            "text/plain": [
              "<Figure size 432x288 with 1 Axes>"
            ]
          },
          "metadata": {
            "needs_background": "light"
          },
          "output_type": "display_data"
        }
      ],
      "source": [
        "from sklearn.datasets import make_blobs\n",
        "import matplotlib.pyplot as plt\n",
        "import numpy as np\n",
        "from scipy.stats import norm\n",
        "\n",
        "X, y = make_blobs(n_samples=10000, centers=2, n_features=2, random_state=1)\n",
        "\n",
        "# esta función ajusta una gausiana \n",
        "# a un conjunto 'data' \n",
        "def fit_distribution(data): \n",
        "  mu = data.mean()\n",
        "  sigma = data.std() \n",
        "  dist = norm(mu, sigma)\n",
        "  return dist\n",
        "\n",
        "plt.scatter(X[y==1][:,0], X[y==1][:,1], label = '1', color='red')\n",
        "plt.scatter(X[y==0][:,0], X[y==0][:,1], label = '0', color = 'blue')\n",
        "plt.legend()"
      ]
    },
    {
      "cell_type": "markdown",
      "metadata": {
        "id": "T1jSlSEiRjkj"
      },
      "source": [
        "Consideramos un modelo de clasificacion de Naive Bayes:\n",
        "\n",
        "$$\n",
        "P(c \\vert x) = P(x \\vert c)P(c)\n",
        "$$\n",
        "\n",
        "donde $P(c)$ es la probabilidad prior dada una clase $c$ y $P(x\\vert c)$ es la verosimilitud de $x$ dada la una clase $c$, con Naive Bayes esto resulta en: \n",
        "\n",
        "$$\n",
        "P(c \\vert x) = P(c)\\prod_iP(x_i \\vert c)\n",
        "$$\n",
        "\n",
        "Lo cual para nuestro caso (`n_features=2`) se traduce en: \n",
        "\n",
        "$$\n",
        "P(c \\vert x) = \\underbrace{P(c)}_{\\text{prior}} \\underbrace{P(x_0 \\vert c) P(x_1 \\vert c)}_{\\text{likelihood}}\n",
        "$$"
      ]
    },
    {
      "cell_type": "code",
      "execution_count": 2,
      "metadata": {
        "id": "zMtzhYxROFw_"
      },
      "outputs": [],
      "source": [
        "# calculamos priors\n",
        "def prior(c):\n",
        "  return len(X[y==c])/len(X)\n",
        "\n",
        "# tenemos cuatro posibles distribuciones a ajustar (verosimilitud)\n",
        "def distX0(c):\n",
        "  if c==0:\n",
        "    return fit_distribution(X[y==0][:,0])\n",
        "  elif c==1:\n",
        "    return fit_distribution(X[y==1][:,0])\n",
        "\n",
        "def distX1(c):\n",
        "  if c==0:\n",
        "    return fit_distribution(X[y==0][:,1])\n",
        "  elif c==1:\n",
        "    return fit_distribution(X[y==1][:,1])\n",
        "\n",
        "# verosimilitud\n",
        "def likelihood(X, c):\n",
        "  return distX0(c).pdf(X[0])*distX1(c).pdf(X[1])\n",
        "\n",
        "# posterior\n",
        "def probability(c, X):\n",
        "  return prior(c)*likelihood(X,c)\n",
        "\n",
        "predictions = [np.argmax([probability(0, vector), probability(1, vector)]) for vector in X]"
      ]
    },
    {
      "cell_type": "markdown",
      "metadata": {
        "id": "BA0pPTW_dLIW"
      },
      "source": [
        "Al final la distribución posterior nos da la probabilidad de que un dato `X` corresponda a una clase `c`. Luego de esto evaluamos el ajuste del modelo de clasificación al dataset artificial con una matriz de confusión:  "
      ]
    },
    {
      "cell_type": "code",
      "execution_count": 3,
      "metadata": {
        "colab": {
          "base_uri": "https://localhost:8080/"
        },
        "id": "XKwDGHG1XFU8",
        "outputId": "a9c235a2-ed4a-4789-adfd-27b122c2ad7d"
      },
      "outputs": [
        {
          "data": {
            "text/plain": [
              "array([[5000,    0],\n",
              "       [   0, 5000]])"
            ]
          },
          "execution_count": 3,
          "metadata": {},
          "output_type": "execute_result"
        }
      ],
      "source": [
        "from sklearn.metrics import confusion_matrix\n",
        "confusion_matrix(y, predictions)"
      ]
    },
    {
      "cell_type": "markdown",
      "metadata": {
        "id": "oXPl05Eldf4P"
      },
      "source": [
        "Donde vemos que la distribución ajusta perfectamente los datos, de lo cual podemos también estimar la clase para otros puntos que no estaban inicialmente en el dataset:"
      ]
    },
    {
      "cell_type": "code",
      "execution_count": 4,
      "metadata": {
        "colab": {
          "base_uri": "https://localhost:8080/"
        },
        "id": "AZ1Q2e1yYQIC",
        "outputId": "46077821-7103-404c-cbef-56ba574600d0"
      },
      "outputs": [
        {
          "data": {
            "text/plain": [
              "1"
            ]
          },
          "execution_count": 4,
          "metadata": {},
          "output_type": "execute_result"
        }
      ],
      "source": [
        "def class_distribution(x, y):\n",
        "  return np.argmax([probability(0, [x,y]), probability(1, [x,y])])\n",
        "\n",
        "class_distribution(-6, 0)"
      ]
    },
    {
      "cell_type": "code",
      "execution_count": 5,
      "metadata": {
        "colab": {
          "base_uri": "https://localhost:8080/"
        },
        "id": "DvFrGF2CeSIC",
        "outputId": "ba8f68dd-87b8-4a8c-88ea-fefad44a5b6a"
      },
      "outputs": [
        {
          "data": {
            "text/plain": [
              "0"
            ]
          },
          "execution_count": 5,
          "metadata": {},
          "output_type": "execute_result"
        }
      ],
      "source": [
        "class_distribution(-4, 0)"
      ]
    },
    {
      "cell_type": "code",
      "execution_count": 6,
      "metadata": {
        "colab": {
          "base_uri": "https://localhost:8080/",
          "height": 280
        },
        "id": "pV7uXTJ5cx4W",
        "outputId": "3db83487-886d-4041-ffc8-bdade6bb54c2"
      },
      "outputs": [
        {
          "data": {
            "text/plain": [
              "<matplotlib.legend.Legend at 0x7ff83a0b02b0>"
            ]
          },
          "execution_count": 6,
          "metadata": {},
          "output_type": "execute_result"
        },
        {
          "data": {
            "image/png": "[encoded data removed]",
            "text/plain": [
              "<Figure size 432x288 with 1 Axes>"
            ]
          },
          "metadata": {
            "needs_background": "light"
          },
          "output_type": "display_data"
        }
      ],
      "source": [
        "plt.scatter(X[y==1][:,0], X[y==1][:,1], label = '1', color='red', marker = '*')\n",
        "plt.scatter(X[y==0][:,0], X[y==0][:,1], label = '0', color = 'blue', marker='*')\n",
        "plt.scatter(-6, 0, color = 'red', marker='s', s=53)\n",
        "plt.scatter(-4, 0, color = 'blue', marker='s', s=53)\n",
        "plt.legend()"
      ]
    },
    {
      "cell_type": "markdown",
      "metadata": {
        "id": "iKGBDsoneir8"
      },
      "source": [
        "En este plot anterior se evidencia cómo el clasificador basado en una distribución posterior puede clasificar puntos que no estaban en el conjunto de datos inicial (puntos con forma de cuadrado), permitiendo de esta manera extrapolar las funciones de clasificación mas allá de los datos iniciales."
      ]
    }
  ],
  "metadata": {
    "colab": {
      "collapsed_sections": [],
      "name": "[Lecturas-15-16]Bayes+ML.ipynb",
      "provenance": []
    },
    "kernelspec": {
      "display_name": "Python 3.9.12 ('science')",
      "language": "python",
      "name": "python3"
    },
    "language_info": {
      "codemirror_mode": {
        "name": "ipython",
        "version": 3
      },
      "file_extension": ".py",
      "mimetype": "text/x-python",
      "name": "python",
      "nbconvert_exporter": "python",
      "pygments_lexer": "ipython3",
      "version": "3.9.12"
    },
    "vscode": {
      "interpreter": {
        "hash": "e36847e174c2f4841b5ed6dbf9974dc324dbe5dde540f7009f83bd0d8df21b80"
      }
    }
  },
  "nbformat": 4,
  "nbformat_minor": 0
}
