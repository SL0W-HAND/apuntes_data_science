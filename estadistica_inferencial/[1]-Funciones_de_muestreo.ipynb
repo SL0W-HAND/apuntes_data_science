{
 "cells": [
  {
   "cell_type": "code",
   "execution_count": null,
   "metadata": {},
   "outputs": [],
   "source": [
    "import pandas as pd\n",
    "import numpy as np\n",
    "import random \n",
    "import io\n"
   ]
  },
  {
   "cell_type": "markdown",
   "metadata": {},
   "source": []
  },
  {
   "cell_type": "code",
   "execution_count": null,
   "metadata": {},
   "outputs": [],
   "source": [
    "econdata =  pd.read_csv('economia-y-turismo-en-el-centro-historico.csv')\n",
    "econdata.head()\n"
   ]
  },
  {
   "cell_type": "code",
   "execution_count": null,
   "metadata": {},
   "outputs": [],
   "source": [
    "econdata.dtypes"
   ]
  },
  {
   "cell_type": "markdown",
   "metadata": {},
   "source": [
    "# funciones de muestreo"
   ]
  },
  {
   "cell_type": "markdown",
   "metadata": {},
   "source": [
    "muestreo aleatorio simple\n"
   ]
  },
  {
   "cell_type": "code",
   "execution_count": null,
   "metadata": {},
   "outputs": [],
   "source": [
    "aleat_8 = econdata.sample(n=8)\n",
    "aleat_8"
   ]
  },
  {
   "cell_type": "markdown",
   "metadata": {},
   "source": [
    "por proporcion de datos en este caso un 25 %\n"
   ]
  },
  {
   "cell_type": "code",
   "execution_count": null,
   "metadata": {},
   "outputs": [],
   "source": [
    "prop_25 = econdata.sample(frac=0.25)\n",
    "prop_25.head()"
   ]
  },
  {
   "cell_type": "markdown",
   "metadata": {},
   "source": [
    "## muesreo sistematico"
   ]
  },
  {
   "cell_type": "code",
   "execution_count": null,
   "metadata": {},
   "outputs": [],
   "source": [
    "def systemating_sampling(econdata,steps):\n",
    "    indexes = np.arange(0,len(econdata),step=steps)\n",
    "    systemating_sample = econdata.iloc[indexes]\n",
    "    return systemating_sample\n",
    "\n",
    "systemating_sample = systemating_sampling(econdata,3)\n",
    "systemating_sample.head()\n"
   ]
  },
  {
   "cell_type": "markdown",
   "metadata": {},
   "source": [
    "## muestreo estratificado"
   ]
  },
  {
   "cell_type": "code",
   "execution_count": null,
   "metadata": {},
   "outputs": [],
   "source": [
    "econdata['estratificado'] = econdata['delegacion'] + \", \" + econdata['tipo']\n",
    "(econdata['estratificado'].value_counts()/len(econdata)).sort_values(ascending=False)"
   ]
  },
  {
   "cell_type": "code",
   "execution_count": null,
   "metadata": {},
   "outputs": [],
   "source": [
    "def data_estratificada(econdata,nombre_columna_estrat,valores_estrat,prop_estrat,random_state=None):\n",
    "    df_estrat = pd.DataFrame(columns=econdata.columns)\n",
    "\n",
    "    pos=-1\n",
    "    for i in range(len(valores_estrat)):\n",
    "        pos += 1\n",
    "        if pos == len(valores_estrat)-1:\n",
    "            ratio_len= len(econdata)-len(df_estrat)\n",
    "        else:\n",
    "            ratio_len= int(len(econdata)*prop_estrat[i])\n",
    "        df_filtrado = econdata[econdata[nombre_columna_estrat] == valores_estrat[i]]\n",
    "        df_temp=df_filtrado.sample(replace=True,n=ratio_len,random_state=random_state)\n",
    "        df_estrat=pd.concat([df_estrat,df_temp])\n",
    "    return df_estrat"
   ]
  },
  {
   "cell_type": "code",
   "execution_count": null,
   "metadata": {},
   "outputs": [],
   "source": [
    "valores_estrat = ['Cuautémoc, Hotel','Cuautémoc, Museo','Venustiano Carranza, Hotel','Cuauhtémoc, Mercado','Venustiano Carranza, Mercado']\n",
    "prop_estrat = [0.5,0.2,0.1,0.1,0.1]\n",
    "\n",
    "df_estrat = data_estratificada(econdata,'estratificado',valores_estrat,prop_estrat,random_state=12)\n",
    "df_estrat"
   ]
  }
 ],
 "metadata": {
  "kernelspec": {
   "display_name": "Python 3.9.12 ('science')",
   "language": "python",
   "name": "python3"
  },
  "language_info": {
   "codemirror_mode": {
    "name": "ipython",
    "version": 3
   },
   "file_extension": ".py",
   "mimetype": "text/x-python",
   "name": "python",
   "nbconvert_exporter": "python",
   "pygments_lexer": "ipython3",
   "version": "3.9.12"
  },
  "orig_nbformat": 4,
  "vscode": {
   "interpreter": {
    "hash": "e36847e174c2f4841b5ed6dbf9974dc324dbe5dde540f7009f83bd0d8df21b80"
   }
  }
 },
 "nbformat": 4,
 "nbformat_minor": 2
}
