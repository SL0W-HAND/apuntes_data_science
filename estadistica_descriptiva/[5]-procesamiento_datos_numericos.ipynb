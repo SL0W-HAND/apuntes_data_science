{
 "cells": [
  {
   "cell_type": "markdown",
   "metadata": {},
   "source": [
    "# Escalamiento de datos numéricos"
   ]
  },
  {
   "cell_type": "code",
   "execution_count": 1,
   "metadata": {},
   "outputs": [
    {
     "ename": "ModuleNotFoundError",
     "evalue": "No module named 'sklearn'",
     "output_type": "error",
     "traceback": [
      "\u001b[0;31m---------------------------------------------------------------------------\u001b[0m",
      "\u001b[0;31mModuleNotFoundError\u001b[0m                       Traceback (most recent call last)",
      "\u001b[1;32m/mnt/c/Users/US3R/Documents/py_code/apuntes_data_science/estadistica_descriptiva/[5]-procesamiento_datos_numericos.ipynb Cell 2'\u001b[0m in \u001b[0;36m<cell line: 5>\u001b[0;34m()\u001b[0m\n\u001b[1;32m      <a href='vscode-notebook-cell://wsl%2Bubuntu-20.04/mnt/c/Users/US3R/Documents/py_code/apuntes_data_science/estadistica_descriptiva/%5B5%5D-procesamiento_datos_numericos.ipynb#ch0000000vscode-remote?line=2'>3</a>\u001b[0m \u001b[39mimport\u001b[39;00m \u001b[39mpandas\u001b[39;00m \u001b[39mas\u001b[39;00m \u001b[39mpd\u001b[39;00m \n\u001b[1;32m      <a href='vscode-notebook-cell://wsl%2Bubuntu-20.04/mnt/c/Users/US3R/Documents/py_code/apuntes_data_science/estadistica_descriptiva/%5B5%5D-procesamiento_datos_numericos.ipynb#ch0000000vscode-remote?line=3'>4</a>\u001b[0m \u001b[39mimport\u001b[39;00m \u001b[39mmatplotlib\u001b[39;00m\u001b[39m.\u001b[39;00m\u001b[39mpyplot\u001b[39;00m \u001b[39mas\u001b[39;00m \u001b[39mplt\u001b[39;00m\n\u001b[0;32m----> <a href='vscode-notebook-cell://wsl%2Bubuntu-20.04/mnt/c/Users/US3R/Documents/py_code/apuntes_data_science/estadistica_descriptiva/%5B5%5D-procesamiento_datos_numericos.ipynb#ch0000000vscode-remote?line=4'>5</a>\u001b[0m \u001b[39mfrom\u001b[39;00m \u001b[39msklearn\u001b[39;00m \u001b[39mimport\u001b[39;00m datasets, linear_model\n\u001b[1;32m      <a href='vscode-notebook-cell://wsl%2Bubuntu-20.04/mnt/c/Users/US3R/Documents/py_code/apuntes_data_science/estadistica_descriptiva/%5B5%5D-procesamiento_datos_numericos.ipynb#ch0000000vscode-remote?line=6'>7</a>\u001b[0m X, y \u001b[39m=\u001b[39m datasets\u001b[39m.\u001b[39mload_diabetes(return_X_y\u001b[39m=\u001b[39m\u001b[39mTrue\u001b[39;00m)\n\u001b[1;32m      <a href='vscode-notebook-cell://wsl%2Bubuntu-20.04/mnt/c/Users/US3R/Documents/py_code/apuntes_data_science/estadistica_descriptiva/%5B5%5D-procesamiento_datos_numericos.ipynb#ch0000000vscode-remote?line=7'>8</a>\u001b[0m raw \u001b[39m=\u001b[39m X[:, \u001b[39mNone\u001b[39;00m, \u001b[39m2\u001b[39m]\n",
      "\u001b[0;31mModuleNotFoundError\u001b[0m: No module named 'sklearn'"
     ]
    }
   ],
   "source": [
    "import timeit\n",
    "import numpy as np\n",
    "import pandas as pd \n",
    "import matplotlib.pyplot as plt\n",
    "from sklearn import datasets, linear_model\n",
    "\n",
    "X, y = datasets.load_diabetes(return_X_y=True)\n",
    "raw = X[:, None, 2]"
   ]
  },
  {
   "cell_type": "code",
   "execution_count": null,
   "metadata": {},
   "outputs": [],
   "source": [
    "# escalamiento max-min\n",
    "max_raw = max(raw)\n",
    "min_raw = min(raw)\n",
    "scaled = (2*raw - max_raw -min_raw)/(max_raw - min_raw)\n",
    "\n",
    "# normalización Z-score\n",
    "\n",
    "avg = np.average(raw)\n",
    "std = np.std(raw)\n",
    "z_scaled = (raw - avg)/std\n",
    "\n",
    "fig, axs = plt.subplots(3, 1, sharex=True, tight_layout=True)\n",
    "\n",
    "axs[0].hist(raw)\n",
    "axs[1].hist(scaled)\n",
    "axs[2].hist(z_scaled)"
   ]
  }
 ],
 "metadata": {
  "kernelspec": {
   "display_name": "Python 3.9.12 ('science')",
   "language": "python",
   "name": "python3"
  },
  "language_info": {
   "codemirror_mode": {
    "name": "ipython",
    "version": 3
   },
   "file_extension": ".py",
   "mimetype": "text/x-python",
   "name": "python",
   "nbconvert_exporter": "python",
   "pygments_lexer": "ipython3",
   "version": "3.9.12"
  },
  "orig_nbformat": 4,
  "vscode": {
   "interpreter": {
    "hash": "e36847e174c2f4841b5ed6dbf9974dc324dbe5dde540f7009f83bd0d8df21b80"
   }
  }
 },
 "nbformat": 4,
 "nbformat_minor": 2
}
